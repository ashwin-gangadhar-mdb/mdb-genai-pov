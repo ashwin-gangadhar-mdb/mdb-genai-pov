{
 "cells": [
  {
   "attachments": {},
   "cell_type": "markdown",
   "id": "1da35373",
   "metadata": {},
   "source": [
    "## Import Transformer LLM and LangChain"
   ]
  },
  {
   "cell_type": "code",
   "execution_count": 67,
   "id": "9428196c",
   "metadata": {},
   "outputs": [],
   "source": [
    "from sentence_transformers import SentenceTransformer, util\n",
    "\n",
    "from langchain.llms import LlamaCpp\n",
    "from langchain import PromptTemplate, LLMChain\n",
    "from langchain.chains.question_answering import load_qa_chain\n",
    "from langchain.callbacks.manager import CallbackManager\n",
    "from langchain.callbacks.streaming_stdout import StreamingStdOutCallbackHandler\n",
    "\n",
    "# Load the model\n",
    "model = SentenceTransformer('sentence-transformers/all-MiniLM-L6-v2')\n",
    "\n",
    "llm = LlamaCpp(\n",
    "    model_path=\"/Users/ashwin.gangadhar/projects/llma/llama.cpp/models/alpaca/ggml-model-q4_0.bin\", callback_manager=callback_manager, verbose=True,\n",
    "    n_ctx=2048\n",
    ")\n",
    "\n"
   ]
  },
  {
   "cell_type": "code",
   "execution_count": 3,
   "id": "22b2b3e0",
   "metadata": {},
   "outputs": [],
   "source": [
    "from pymongo import MongoClient\n",
    "from code.config import MONGO_CONNECTION_URI, MONGO_DATABASE, MONGO_COLLECTION\n",
    "client = MongoClient(MONGO_CONNECTION_URI)\n",
    "col = client[MONGO_DATABASE][MONGO_COLLECTION]\n"
   ]
  },
  {
   "attachments": {},
   "cell_type": "markdown",
   "id": "9f932655",
   "metadata": {},
   "source": [
    "## Embed Our Query\n",
    "\n",
    "We then take an english-intuitive question, also send that through the same 384 dimension calculation and then the resulting vector query and corpus query are sent through the `calculate` function, where the most similar strings are calculated. "
   ]
  },
  {
   "cell_type": "code",
   "execution_count": 154,
   "id": "48b7cf26",
   "metadata": {},
   "outputs": [
    {
     "name": "stdout",
     "output_type": "stream",
     "text": [
      "[ 2.35183220e-02  3.99707668e-02 -4.71023731e-02  9.87779573e-02\n",
      " -1.12254411e-01 -7.96998292e-03  2.76855063e-02  8.29024334e-03\n",
      " -4.43593897e-02 -5.03254756e-02 -5.80611825e-02 -1.70577019e-01\n",
      "  2.79029366e-02 -1.13135083e-02  1.31821772e-02 -5.54829314e-02\n",
      "  6.42903969e-02 -5.85388541e-02  5.48837371e-02 -3.25091416e-03\n",
      " -4.39127237e-02  4.16118372e-03 -4.40489920e-03 -1.19083397e-01\n",
      "  1.09666958e-01 -2.40535121e-02  8.58809042e-04 -9.22812968e-02\n",
      "  7.98933394e-03 -3.22163031e-02  5.40172756e-02 -6.21369630e-02\n",
      " -1.44066131e-02  5.06913699e-02 -3.28791179e-02 -2.52910890e-02\n",
      " -2.30456926e-02  5.95657080e-02  9.90573764e-02  4.99703586e-02\n",
      " -9.83493216e-03  6.47778288e-02 -8.60693827e-02  9.76740499e-04\n",
      "  5.19926399e-02  3.87342125e-02 -2.94610718e-03 -4.21153456e-02\n",
      " -1.38430074e-02 -8.99347365e-02 -3.15111177e-03 -3.53390761e-02\n",
      " -4.93329875e-02  3.57690267e-02 -3.44870724e-02 -8.99252966e-02\n",
      "  5.13808914e-02  3.15066576e-02 -3.13830934e-03  5.14629707e-02\n",
      "  2.68788189e-02 -3.22308615e-02 -1.01635875e-02  3.92236449e-02\n",
      "  8.82052332e-02 -5.38356937e-02  3.21842320e-02  8.30897503e-03\n",
      "  9.15023778e-03 -3.55433524e-02 -5.39953774e-03  6.38603512e-03\n",
      " -7.04962164e-02 -7.81291798e-02 -2.67504379e-02 -6.73887506e-02\n",
      " -8.52496773e-02  8.03955048e-02  1.00207040e-02  4.25305627e-02\n",
      " -1.46054262e-02 -2.73609627e-02 -4.83339326e-03  6.54381365e-02\n",
      " -2.73810942e-02  2.96692569e-02  2.58012637e-02 -2.62319762e-02\n",
      " -3.49413208e-03 -5.98853976e-02  6.14831857e-02  3.24349068e-02\n",
      " -2.55092289e-02  4.82924655e-03 -1.14735618e-01  4.46429439e-02\n",
      " -9.34278220e-02 -1.06077744e-02 -5.26057649e-03  2.18618810e-02\n",
      " -5.15182242e-02  6.41135965e-04 -1.07273310e-02 -3.12986970e-02\n",
      " -5.06722145e-02  5.86076081e-02 -1.86696071e-02 -5.56836538e-02\n",
      "  5.56545751e-03 -1.29565550e-02 -2.91853026e-02  1.80235039e-02\n",
      " -4.02078554e-02  4.26320173e-02  2.43927091e-02  7.15203881e-02\n",
      "  4.12878841e-02  2.31633283e-04 -2.47520823e-02 -2.42865123e-02\n",
      " -1.14596620e-01 -6.11017533e-02 -1.84578858e-02 -2.59795208e-02\n",
      " -8.96796286e-02 -2.23795492e-02 -8.82595107e-02 -7.94503922e-33\n",
      "  3.97597440e-02 -2.41810679e-02  3.77763738e-03 -1.57194026e-02\n",
      " -4.93178964e-02  8.89424793e-03 -3.27983499e-02 -7.10431710e-02\n",
      " -1.10981176e-02 -6.63408032e-03  5.92808947e-02 -9.79625583e-02\n",
      "  1.26757510e-02 -4.24847081e-02  7.68689290e-02  1.97010450e-02\n",
      " -3.41368243e-02  5.75896017e-02 -5.54824397e-02  4.44657821e-03\n",
      "  4.85679433e-02 -2.18713619e-02 -3.72339971e-02 -2.77996473e-02\n",
      "  7.37515511e-03  1.83390919e-02  6.63699210e-02  8.13264996e-02\n",
      "  1.09967031e-02 -2.30649440e-03  8.48261565e-02 -4.41131406e-02\n",
      "  7.65234872e-05  8.44812319e-02 -1.98022090e-02  1.41313970e-02\n",
      "  5.42209717e-03  1.40890023e-02  2.39614565e-02  3.52257527e-02\n",
      "  6.98040202e-02 -3.82111967e-02 -7.11785257e-02  8.48588645e-02\n",
      "  1.00273322e-02  2.60539651e-02  9.28597525e-04 -1.24189202e-02\n",
      "  2.19343603e-02 -3.62946615e-02 -9.42190588e-02  8.98695644e-03\n",
      " -1.38846450e-02  4.06976156e-02  2.63551474e-02  3.73063311e-02\n",
      "  3.97030413e-02  3.17312614e-03  9.77517813e-02  7.62776360e-02\n",
      " -3.17994729e-02 -3.85793820e-02 -4.64052148e-02  1.75767229e-03\n",
      "  2.54726391e-02 -3.57057042e-02  6.72625229e-02  4.78945486e-02\n",
      "  3.13208140e-02 -5.61530218e-02  1.59915127e-02 -1.60789788e-02\n",
      "  4.45956215e-02  7.38374069e-02 -2.43612342e-02 -2.09838692e-02\n",
      " -1.47962468e-02  6.80148974e-03 -3.30658294e-02  7.94323459e-02\n",
      " -7.52773415e-03 -4.08865251e-02 -6.29355162e-02 -2.47040838e-02\n",
      "  9.41874310e-02 -9.65322852e-02 -3.57296914e-02 -1.07685678e-01\n",
      " -5.77794686e-02 -4.39675041e-02 -3.84332687e-02 -4.63169068e-03\n",
      "  2.78709400e-02  5.65084554e-02 -6.09734608e-03  4.66727828e-33\n",
      "  8.26506689e-02 -2.83770952e-02 -4.70511317e-02 -1.54370023e-03\n",
      "  7.78219476e-03  1.11978641e-02  6.87974840e-02  7.89658073e-03\n",
      " -4.15896103e-02  2.18504556e-02 -3.78072262e-02 -6.26993505e-03\n",
      "  1.90916415e-02  1.17945060e-01  6.59904033e-02  4.75149453e-02\n",
      "  9.52822119e-02  3.70121673e-02 -1.37382135e-01 -3.92177403e-02\n",
      " -1.16146013e-01  2.83165146e-02 -7.17284754e-02  4.93056364e-02\n",
      "  6.46285117e-02  2.66625062e-02 -9.56781954e-02 -3.91414352e-02\n",
      " -3.38021256e-02  5.77333756e-02 -1.32217705e-02 -5.20327091e-02\n",
      " -1.23779522e-02  9.74205211e-02 -4.64906655e-02  2.48937821e-03\n",
      "  7.30646476e-02 -3.33306193e-02  3.83753516e-02  1.04334772e-01\n",
      "  6.24429341e-03  3.17779817e-02  4.12435681e-02  1.30833164e-01\n",
      "  4.67962772e-02  3.57627124e-03  4.99527566e-02 -9.83007252e-04\n",
      " -8.72022065e-04  4.26749513e-02  7.72343427e-02  6.05639908e-03\n",
      "  2.06958838e-02  1.87082328e-02  6.04712479e-02  2.74474714e-02\n",
      " -4.75925915e-02  8.42351988e-02 -6.63614348e-02 -9.32976082e-02\n",
      "  8.47881585e-02 -4.71329270e-03  7.82942697e-02  3.35854478e-02\n",
      " -4.73011769e-02  6.51125833e-02  9.03848633e-02 -5.36217820e-03\n",
      "  3.68523374e-02 -9.53970402e-02  5.23224436e-02 -4.14544381e-02\n",
      " -1.71756893e-02  2.54433881e-02 -6.84883073e-02  3.68007086e-02\n",
      "  4.95177172e-02  5.89492321e-02 -7.08337501e-03 -5.31270392e-02\n",
      " -2.56666522e-02  6.57046810e-02 -1.29815608e-05 -1.03925191e-01\n",
      "  5.36449626e-02  8.32352694e-03 -2.62665264e-02 -6.86065927e-02\n",
      "  7.31605217e-02 -1.27069410e-02 -6.83786646e-02  6.67161793e-02\n",
      "  2.79280860e-02  1.52516132e-02  7.41951764e-02 -1.67061192e-08\n",
      "  7.04194531e-02 -5.51093221e-02 -2.71956734e-02  4.89391647e-02\n",
      "  4.84776720e-02 -3.16329338e-02  3.12102083e-02 -4.18296456e-02\n",
      " -1.04584321e-01  1.09588588e-02 -1.56927537e-02  3.21551748e-02\n",
      " -7.89073855e-02 -1.80100079e-03  1.97957158e-02 -4.96042892e-02\n",
      "  1.14320507e-02  2.36352589e-02  5.97937591e-03 -1.35115962e-02\n",
      "  1.71388611e-02 -6.32404117e-05  2.95968726e-02 -8.89121555e-03\n",
      "  2.89651612e-03 -2.27215849e-02  3.60375680e-02 -1.70304719e-02\n",
      "  6.75357357e-02 -5.37058972e-02  5.67156337e-02  2.80216374e-02\n",
      " -4.07394916e-02 -5.04920334e-02 -6.21373802e-02  1.58425607e-02\n",
      "  1.17239870e-01 -5.14344964e-03  4.53290865e-02  4.10835743e-02\n",
      " -1.07626794e-02  4.31534275e-03  5.45675196e-02  1.31656229e-02\n",
      " -1.13544809e-02  4.93543148e-02  2.04766244e-02 -3.21924686e-02\n",
      "  2.46034227e-02 -1.03721082e-01 -1.05858952e-01 -1.92135759e-02\n",
      " -4.57188534e-03  1.11924065e-02 -4.04896475e-02  8.01207274e-02\n",
      " -1.02227502e-01  8.97715241e-03  3.09517644e-02  3.79343368e-02\n",
      "  1.32111246e-02 -2.44073700e-02  5.33090793e-02 -4.10713628e-02]\n"
     ]
    }
   ],
   "source": [
    "# Encode our question and documents in 384 dimension\n",
    "\n",
    "# query = \"How many islands are comprised of Japan?\"\n",
    "# query = \"Name a few major cities in japan?\"\n",
    "# query = \"Which constitution model did Japan adopt?\"\n",
    "# query = \"Which are the important cities in japan?\"\n",
    "# query = \"Japan is divided into how many administrative regions?\"\n",
    "# query = \"Which city is the capital of Tamil Nadu?\"\n",
    "# query = \"What is Tamil Nadu's Population?\"\n",
    "query = \"Which is the Capital of Karnataka?\"\n",
    "query_vector = model.encode(query)\n",
    "print(query_vector)"
   ]
  },
  {
   "attachments": {},
   "cell_type": "markdown",
   "id": "53414d6e",
   "metadata": {},
   "source": [
    "## Calculate Similarity"
   ]
  },
  {
   "cell_type": "code",
   "execution_count": 158,
   "id": "49e8dda0",
   "metadata": {},
   "outputs": [
    {
     "name": "stdout",
     "output_type": "stream",
     "text": [
      "Its capital and largest city is Bengaluru (Bangalore) Karnataka\t score:0.7100876569747925\n",
      "Karnataka (/kərˈnɑːtəkə/; ISO: Karnāṭaka, Kannada pronunciation: [kɐˈɾnäːʈɐkɐ], also known as Karunāḍu), formerly Mysore State /maɪˈsɔːr/, is a state in the southwestern region of India Karnataka\t score:0.6478210091590881\n",
      "It is the sixth-largest Indian state by area Karnataka\t score:0.6387611627578735\n",
      "Karnataka is bordered by the Lakshadweep Sea to the west, Goa to the northwest, Maharashtra to the north, Telangana to the northeast, Andhra Pradesh to the east, Tamil Nadu to the southeast, and Kerala to the southwest Karnataka\t score:0.6021411418914795\n"
     ]
    }
   ],
   "source": [
    "pipeline = [{\n",
    "  \"$search\": {\n",
    "    \"index\": \"default\",\n",
    "    \"knnBeta\": {\n",
    "      \"vector\": query_vector.tolist(),\n",
    "      \"path\": \"d\",\n",
    "      \"k\": 4\n",
    "    }\n",
    "  }\n",
    "},\n",
    "{\"$project\":{\n",
    "    \"score\":{\n",
    "              '$meta': 'searchScore'\n",
    "            },\n",
    "    \"doc\":1,\n",
    "    \"_id\": 0\n",
    "}}]\n",
    "res = list(col.aggregate(pipeline))\n",
    "context = \"\"\n",
    "for i in res:\n",
    "    context += \". \"+i['doc']\n",
    "    print(i['doc'] + \"\\t score:\"+ str(i['score']) )\n",
    "instruction=\"Answer to the point. Answer present in context\"\n",
    "\n"
   ]
  },
  {
   "attachments": {},
   "cell_type": "markdown",
   "id": "0bd27cbd",
   "metadata": {},
   "source": [
    "# Example with Prompt Template and Prompt Engineering"
   ]
  },
  {
   "cell_type": "code",
   "execution_count": 159,
   "id": "2d17ae59",
   "metadata": {},
   "outputs": [],
   "source": [
    "# You can avoid running this cell each time\n",
    "# Creating a prompt template chain to do qna\n",
    "\n",
    "template = \"\"\"\n",
    "Answer the question based on the context and adhering to instruciton. If the\n",
    "question cannot be answered using the information provided answer\n",
    "with 'I don't know'.\n",
    "### Context : {context}\n",
    "\n",
    "### Question: {question}\n",
    "\n",
    "### Instruction : {instruction}\n",
    "\n",
    "### Answer:\n",
    "\"\"\"\n",
    "prompt = PromptTemplate(template=template, input_variables=[\"question\", \"context\",\"instruction\"])\n",
    "\n",
    "callback_manager = CallbackManager([StreamingStdOutCallbackHandler()])\n",
    "\n",
    "llm_chain = LLMChain(prompt=prompt, llm=llm)"
   ]
  },
  {
   "cell_type": "code",
   "execution_count": 160,
   "id": "dea76f64",
   "metadata": {},
   "outputs": [
    {
     "name": "stderr",
     "output_type": "stream",
     "text": [
      "Llama.generate: prefix-match hit\n"
     ]
    },
    {
     "name": "stdout",
     "output_type": "stream",
     "text": [
      "Bengaluru (Bangalore)"
     ]
    },
    {
     "name": "stderr",
     "output_type": "stream",
     "text": [
      "\n",
      "llama_print_timings:        load time =  5846.48 ms\n",
      "llama_print_timings:      sample time =     8.41 ms /    11 runs   (    0.76 ms per token,  1308.28 tokens per second)\n",
      "llama_print_timings: prompt eval time = 10116.71 ms /    16 tokens (  632.29 ms per token,     1.58 tokens per second)\n",
      "llama_print_timings:        eval time =  1096.46 ms /    10 runs   (  109.65 ms per token,     9.12 tokens per second)\n",
      "llama_print_timings:       total time = 11265.78 ms\n"
     ]
    },
    {
     "data": {
      "text/plain": [
       "'Bengaluru (Bangalore)'"
      ]
     },
     "execution_count": 160,
     "metadata": {},
     "output_type": "execute_result"
    }
   ],
   "source": [
    "llm_chain.run({\"question\":query,\"context\":context,\"instruction\": instruction})"
   ]
  },
  {
   "attachments": {},
   "cell_type": "markdown",
   "id": "0440ab4c",
   "metadata": {},
   "source": [
    "# Using the QA Chain template in LangChain"
   ]
  },
  {
   "cell_type": "code",
   "execution_count": 72,
   "id": "40690b4b",
   "metadata": {},
   "outputs": [],
   "source": [
    "from langchain.chains.qa_with_sources import load_qa_with_sources_chain\n",
    "from langchain.docstore.document import Document"
   ]
  },
  {
   "cell_type": "code",
   "execution_count": 149,
   "id": "ad671de9",
   "metadata": {},
   "outputs": [],
   "source": [
    "chain = load_qa_with_sources_chain(llm, chain_type=\"map_rerank\")"
   ]
  },
  {
   "cell_type": "code",
   "execution_count": 150,
   "id": "57e9e0af",
   "metadata": {},
   "outputs": [],
   "source": [
    "def similarity_search(question,k=4):\n",
    "  query_vector = model.encode(question)\n",
    "  pipeline = [{\n",
    "  \"$search\": {\n",
    "    \"index\": \"default\",\n",
    "    \"knnBeta\": {\n",
    "      \"vector\": query_vector.tolist(),\n",
    "      \"path\": \"d\",\n",
    "      \"k\": k\n",
    "    }\n",
    "  }\n",
    "  },\n",
    "  {\"$project\":{\n",
    "      \"score\":{\n",
    "                '$meta': 'searchScore'\n",
    "              },\n",
    "      \"doc\":1,\n",
    "      \"state\":1,\n",
    "      \"_id\": 0\n",
    "  }}]\n",
    "  res = list(col.aggregate(pipeline))\n",
    "  op = []\n",
    "  for ele in res:\n",
    "    op += [Document(\n",
    "    metadata={\"source\": ele[\"state\"]},\n",
    "    page_content=ele[\"doc\"],\n",
    "  )]\n",
    "  return op\n",
    "\n",
    "def qa_vector_store(chain, question):\n",
    "  inputs = {\n",
    "    \"input_documents\": similarity_search(question, k=3),\n",
    "    \"question\": question\n",
    "    }\n",
    "  response = chain(inputs, return_only_outputs=True)\n",
    "  outputs = response[\"output_text\"]\n",
    "  return outputs"
   ]
  },
  {
   "cell_type": "code",
   "execution_count": 151,
   "id": "5467df15",
   "metadata": {},
   "outputs": [
    {
     "name": "stderr",
     "output_type": "stream",
     "text": [
      "Llama.generate: prefix-match hit\n"
     ]
    },
    {
     "name": "stdout",
     "output_type": "stream",
     "text": [
      " Bangalore\n",
      "Score: 100"
     ]
    },
    {
     "name": "stderr",
     "output_type": "stream",
     "text": [
      "\n",
      "llama_print_timings:        load time =  3336.78 ms\n",
      "llama_print_timings:      sample time =     8.19 ms /    11 runs   (    0.74 ms per token,  1343.10 tokens per second)\n",
      "llama_print_timings: prompt eval time = 47364.31 ms /   381 tokens (  124.32 ms per token,     8.04 tokens per second)\n",
      "llama_print_timings:        eval time =  2152.83 ms /    10 runs   (  215.28 ms per token,     4.65 tokens per second)\n",
      "llama_print_timings:       total time = 49680.11 ms\n",
      "Llama.generate: prefix-match hit\n"
     ]
    },
    {
     "name": "stdout",
     "output_type": "stream",
     "text": [
      " Bangalore\n",
      "Score: 100"
     ]
    },
    {
     "name": "stderr",
     "output_type": "stream",
     "text": [
      "\n",
      "llama_print_timings:        load time =  3336.78 ms\n",
      "llama_print_timings:      sample time =     7.95 ms /    11 runs   (    0.72 ms per token,  1383.82 tokens per second)\n",
      "llama_print_timings: prompt eval time =  2997.34 ms /    36 tokens (   83.26 ms per token,    12.01 tokens per second)\n",
      "llama_print_timings:        eval time =  1904.06 ms /    10 runs   (  190.41 ms per token,     5.25 tokens per second)\n",
      "llama_print_timings:       total time =  4968.10 ms\n",
      "Llama.generate: prefix-match hit\n"
     ]
    },
    {
     "name": "stdout",
     "output_type": "stream",
     "text": [
      " Bangalore\n",
      "Score: 70"
     ]
    },
    {
     "name": "stderr",
     "output_type": "stream",
     "text": [
      "\n",
      "llama_print_timings:        load time =  3336.78 ms\n",
      "llama_print_timings:      sample time =     7.20 ms /    10 runs   (    0.72 ms per token,  1389.08 tokens per second)\n",
      "llama_print_timings: prompt eval time = 13844.73 ms /   104 tokens (  133.12 ms per token,     7.51 tokens per second)\n",
      "llama_print_timings:        eval time =  1346.55 ms /     9 runs   (  149.62 ms per token,     6.68 tokens per second)\n",
      "llama_print_timings:       total time = 15251.02 ms\n"
     ]
    }
   ],
   "source": [
    "question = \"Which is the capital of Karnataka?\"\n",
    "similarity_search(question)\n",
    "out = qa_vector_store(chain,question)"
   ]
  },
  {
   "cell_type": "code",
   "execution_count": 153,
   "id": "7c5a5303",
   "metadata": {},
   "outputs": [
    {
     "data": {
      "text/plain": [
       "' Bangalore'"
      ]
     },
     "execution_count": 153,
     "metadata": {},
     "output_type": "execute_result"
    }
   ],
   "source": [
    "out"
   ]
  },
  {
   "cell_type": "code",
   "execution_count": null,
   "id": "e44740d6",
   "metadata": {},
   "outputs": [],
   "source": []
  }
 ],
 "metadata": {
  "kernelspec": {
   "display_name": "Python 3",
   "language": "python",
   "name": "python3"
  },
  "language_info": {
   "codemirror_mode": {
    "name": "ipython",
    "version": 3
   },
   "file_extension": ".py",
   "mimetype": "text/x-python",
   "name": "python",
   "nbconvert_exporter": "python",
   "pygments_lexer": "ipython3",
   "version": "3.9.13"
  }
 },
 "nbformat": 4,
 "nbformat_minor": 5
}
