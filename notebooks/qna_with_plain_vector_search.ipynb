{
 "cells": [
  {
   "attachments": {},
   "cell_type": "markdown",
   "id": "1da35373",
   "metadata": {},
   "source": [
    "## Import Transformer\n",
    "\n",
    "First we'll import our pre-trained sentence similarity model. This one was trained using BERT techniques on a massive set of tuples from the internet. Tuples take the form of input-output. So for example, an input could be a question, and an output could be an answer. "
   ]
  },
  {
   "cell_type": "code",
   "execution_count": 4,
   "id": "77d206ec",
   "metadata": {},
   "outputs": [
    {
     "name": "stdout",
     "output_type": "stream",
     "text": [
      "Requirement already satisfied: accelerate in /Users/ashwin.gangadhar/anaconda3/lib/python3.9/site-packages (0.20.3)\n",
      "Requirement already satisfied: transformers in /Users/ashwin.gangadhar/anaconda3/lib/python3.9/site-packages (4.30.2)\n",
      "Requirement already satisfied: torch in /Users/ashwin.gangadhar/anaconda3/lib/python3.9/site-packages (1.13.1)\n",
      "Requirement already satisfied: sentence-transformers in /Users/ashwin.gangadhar/anaconda3/lib/python3.9/site-packages (2.2.2)\n",
      "Requirement already satisfied: huggingface in /Users/ashwin.gangadhar/anaconda3/lib/python3.9/site-packages (0.0.1)\n",
      "Requirement already satisfied: numpy>=1.17 in /Users/ashwin.gangadhar/anaconda3/lib/python3.9/site-packages (from accelerate) (1.21.5)\n",
      "Requirement already satisfied: packaging>=20.0 in /Users/ashwin.gangadhar/anaconda3/lib/python3.9/site-packages (from accelerate) (21.3)\n",
      "Requirement already satisfied: psutil in /Users/ashwin.gangadhar/anaconda3/lib/python3.9/site-packages (from accelerate) (5.9.0)\n",
      "Requirement already satisfied: pyyaml in /Users/ashwin.gangadhar/anaconda3/lib/python3.9/site-packages (from accelerate) (6.0)\n",
      "Requirement already satisfied: huggingface-hub<1.0,>=0.14.1 in /Users/ashwin.gangadhar/anaconda3/lib/python3.9/site-packages (from transformers) (0.15.1)\n",
      "Requirement already satisfied: requests in /Users/ashwin.gangadhar/anaconda3/lib/python3.9/site-packages (from transformers) (2.28.1)\n",
      "Requirement already satisfied: regex!=2019.12.17 in /Users/ashwin.gangadhar/anaconda3/lib/python3.9/site-packages (from transformers) (2022.7.9)\n",
      "Requirement already satisfied: tokenizers!=0.11.3,<0.14,>=0.11.1 in /Users/ashwin.gangadhar/anaconda3/lib/python3.9/site-packages (from transformers) (0.13.3)\n",
      "Requirement already satisfied: safetensors>=0.3.1 in /Users/ashwin.gangadhar/anaconda3/lib/python3.9/site-packages (from transformers) (0.3.1)\n",
      "Requirement already satisfied: filelock in /Users/ashwin.gangadhar/anaconda3/lib/python3.9/site-packages (from transformers) (3.6.0)\n",
      "Requirement already satisfied: tqdm>=4.27 in /Users/ashwin.gangadhar/anaconda3/lib/python3.9/site-packages (from transformers) (4.64.1)\n",
      "Requirement already satisfied: typing-extensions in /Users/ashwin.gangadhar/anaconda3/lib/python3.9/site-packages (from torch) (4.3.0)\n",
      "Requirement already satisfied: torchvision in /Users/ashwin.gangadhar/anaconda3/lib/python3.9/site-packages (from sentence-transformers) (0.14.1)\n",
      "Requirement already satisfied: scipy in /Users/ashwin.gangadhar/anaconda3/lib/python3.9/site-packages (from sentence-transformers) (1.9.1)\n",
      "Requirement already satisfied: nltk in /Users/ashwin.gangadhar/anaconda3/lib/python3.9/site-packages (from sentence-transformers) (3.7)\n",
      "Requirement already satisfied: scikit-learn in /Users/ashwin.gangadhar/anaconda3/lib/python3.9/site-packages (from sentence-transformers) (1.1.1)\n",
      "Requirement already satisfied: sentencepiece in /Users/ashwin.gangadhar/anaconda3/lib/python3.9/site-packages (from sentence-transformers) (0.1.99)\n",
      "Requirement already satisfied: fsspec in /Users/ashwin.gangadhar/anaconda3/lib/python3.9/site-packages (from huggingface-hub<1.0,>=0.14.1->transformers) (2022.7.1)\n",
      "Requirement already satisfied: pyparsing!=3.0.5,>=2.0.2 in /Users/ashwin.gangadhar/anaconda3/lib/python3.9/site-packages (from packaging>=20.0->accelerate) (3.0.9)\n",
      "Requirement already satisfied: click in /Users/ashwin.gangadhar/anaconda3/lib/python3.9/site-packages (from nltk->sentence-transformers) (8.0.4)\n",
      "Requirement already satisfied: joblib in /Users/ashwin.gangadhar/anaconda3/lib/python3.9/site-packages (from nltk->sentence-transformers) (1.1.0)\n",
      "Requirement already satisfied: idna<4,>=2.5 in /Users/ashwin.gangadhar/anaconda3/lib/python3.9/site-packages (from requests->transformers) (3.3)\n",
      "Requirement already satisfied: urllib3<1.27,>=1.21.1 in /Users/ashwin.gangadhar/anaconda3/lib/python3.9/site-packages (from requests->transformers) (1.26.11)\n",
      "Requirement already satisfied: certifi>=2017.4.17 in /Users/ashwin.gangadhar/anaconda3/lib/python3.9/site-packages (from requests->transformers) (2022.12.7)\n",
      "Requirement already satisfied: charset-normalizer<3,>=2 in /Users/ashwin.gangadhar/anaconda3/lib/python3.9/site-packages (from requests->transformers) (2.0.4)\n",
      "Requirement already satisfied: threadpoolctl>=2.0.0 in /Users/ashwin.gangadhar/anaconda3/lib/python3.9/site-packages (from scikit-learn->sentence-transformers) (2.2.0)\n",
      "Requirement already satisfied: pillow!=8.3.*,>=5.3.0 in /Users/ashwin.gangadhar/anaconda3/lib/python3.9/site-packages (from torchvision->sentence-transformers) (9.2.0)\n",
      "Note: you may need to restart the kernel to use updated packages.\n"
     ]
    }
   ],
   "source": [
    "%pip install accelerate transformers torch sentence-transformers huggingface \n",
    "\n"
   ]
  },
  {
   "cell_type": "code",
   "execution_count": 10,
   "id": "9428196c",
   "metadata": {},
   "outputs": [],
   "source": [
    "from sentence_transformers import SentenceTransformer, util\n",
    "\n",
    "# Load the model\n",
    "model = SentenceTransformer('sentence-transformers/all-MiniLM-L6-v2')"
   ]
  },
  {
   "attachments": {},
   "cell_type": "markdown",
   "id": "fe309872",
   "metadata": {},
   "source": [
    "## Prepare Corpus\n",
    "\n",
    "We are going to pull the summary from the <a href=\"https://en.wikipedia.org/wiki/Japan\">Japan Wikipedia Page</a>, then prepare it for vector embedding. "
   ]
  },
  {
   "cell_type": "code",
   "execution_count": 11,
   "id": "6a3089ef",
   "metadata": {
    "scrolled": true
   },
   "outputs": [
    {
     "name": "stdout",
     "output_type": "stream",
     "text": [
      "['Japan is an island country in East Asia', ' It is situated in the northwest Pacific Ocean, and is bordered on the west by the Sea of Japan, while extending from the Sea of Okhotsk in the north toward the East China Sea, Philippine Sea, and Taiwan in the south', ' Japan is a part of the Ring of Fire, and spans an archipelago of 6852 islands covering 377,975 square kilometers (145,937 sq mi); the five main islands are Hokkaido, Honshu, Shikoku, Kyushu, and Okinawa', \" Tokyo is the nation's capital and largest city, followed by Yokohama, Osaka, Nagoya, Sapporo, Fukuoka, Kobe, and Kyoto\", ' Japan is the eleventh most populous country in the world, as well as one of the most densely populated and urbanized', \" About three-fourths of the country's terrain is mountainous, concentrating its population of 125\", '5 million on narrow coastal plains', ' Japan is divided into 47 administrative prefectures and eight traditional regions', ' The Greater Tokyo Area is the most populous metropolitan area in the world, with more than 37', '4 million residents', ' Japan has been inhabited since the Upper Paleolithic period (30,000 BC), though the first written mention of the archipelago appears in a Chinese chronicle (the Book of Han) finished in the 2nd century AD', ' Between the 4th and 9th centuries, the kingdoms of Japan became unified under an emperor and the imperial court based in Heian-kyō', ' Beginning in the 12th century, political power was held by a series of military dictators (shōgun) and feudal lords (daimyō) and enforced by a class of warrior nobility (samurai)', ' After a century-long period of civil war, the country was reunified in 1603 under the Tokugawa shogunate, which enacted an isolationist foreign policy', ' In 1854, a United States fleet forced Japan to open trade to the West, which led to the end of the shogunate and the restoration of imperial power in 1868', ' In the Meiji period, the Empire of Japan adopted a Western-modeled constitution and pursued a program of industrialization and modernization', ' Amidst a rise in militarism and overseas colonization, Japan invaded China in 1937 and entered World War II as an Axis power in 1941', ' After suffering defeat in the Pacific War and two atomic bombings, Japan surrendered in 1945 and came under a seven-year Allied occupation, during which it adopted a new constitution and began a military alliance with the United States', ' Under the 1947 constitution, Japan has maintained a unitary parliamentary constitutional monarchy with a bicameral legislature, the National Diet', ' Japan is a highly developed country, and a great power in global politics', \" Its economy is the world's third-largest by nominal GDP and the fourth-largest by PPP\", \" Although Japan has renounced its right to declare war, the country maintains Self-Defense Forces that rank as one of the world's strongest militaries\", ' After World War II, Japan experienced record growth in an economic miracle, becoming the second-largest economy in the world by 1972 but has stagnated since 1995 in what is referred to as the Lost Decades', \" Japan has the world's highest life expectancy, though it is experiencing a decline in population\", ' A global leader in the automotive, robotics and electronics industries, the country has made significant contributions to science and technology', ' The culture of Japan is well known around the world, including its art, cuisine, music, and popular culture, which encompasses prominent comic, animation and video game industries', ' It is a member of numerous international organizations, including the United Nations (since 1956), OECD, G20 and Group of Seven', '']\n"
     ]
    }
   ],
   "source": [
    "# set corpus from first page of wikipedia\n",
    "corpus = \"Japan is an island country in East Asia. It is situated in the northwest Pacific Ocean, and is bordered on the west by the Sea of Japan, while extending from the Sea of Okhotsk in the north toward the East China Sea, Philippine Sea, and Taiwan in the south. Japan is a part of the Ring of Fire, and spans an archipelago of 6852 islands covering 377,975 square kilometers (145,937 sq mi); the five main islands are Hokkaido, Honshu, Shikoku, Kyushu, and Okinawa. Tokyo is the nation's capital and largest city, followed by Yokohama, Osaka, Nagoya, Sapporo, Fukuoka, Kobe, and Kyoto. Japan is the eleventh most populous country in the world, as well as one of the most densely populated and urbanized. About three-fourths of the country's terrain is mountainous, concentrating its population of 125.5 million on narrow coastal plains. Japan is divided into 47 administrative prefectures and eight traditional regions. The Greater Tokyo Area is the most populous metropolitan area in the world, with more than 37.4 million residents. Japan has been inhabited since the Upper Paleolithic period (30,000 BC), though the first written mention of the archipelago appears in a Chinese chronicle (the Book of Han) finished in the 2nd century AD. Between the 4th and 9th centuries, the kingdoms of Japan became unified under an emperor and the imperial court based in Heian-kyō. Beginning in the 12th century, political power was held by a series of military dictators (shōgun) and feudal lords (daimyō) and enforced by a class of warrior nobility (samurai). After a century-long period of civil war, the country was reunified in 1603 under the Tokugawa shogunate, which enacted an isolationist foreign policy. In 1854, a United States fleet forced Japan to open trade to the West, which led to the end of the shogunate and the restoration of imperial power in 1868. In the Meiji period, the Empire of Japan adopted a Western-modeled constitution and pursued a program of industrialization and modernization. Amidst a rise in militarism and overseas colonization, Japan invaded China in 1937 and entered World War II as an Axis power in 1941. After suffering defeat in the Pacific War and two atomic bombings, Japan surrendered in 1945 and came under a seven-year Allied occupation, during which it adopted a new constitution and began a military alliance with the United States. Under the 1947 constitution, Japan has maintained a unitary parliamentary constitutional monarchy with a bicameral legislature, the National Diet. Japan is a highly developed country, and a great power in global politics. Its economy is the world's third-largest by nominal GDP and the fourth-largest by PPP. Although Japan has renounced its right to declare war, the country maintains Self-Defense Forces that rank as one of the world's strongest militaries. After World War II, Japan experienced record growth in an economic miracle, becoming the second-largest economy in the world by 1972 but has stagnated since 1995 in what is referred to as the Lost Decades. Japan has the world's highest life expectancy, though it is experiencing a decline in population. A global leader in the automotive, robotics and electronics industries, the country has made significant contributions to science and technology. The culture of Japan is well known around the world, including its art, cuisine, music, and popular culture, which encompasses prominent comic, animation and video game industries. It is a member of numerous international organizations, including the United Nations (since 1956), OECD, G20 and Group of Seven.\"\n",
    "# turn it into an array of sentences\n",
    "docs = corpus.split('.')\n",
    "print(docs)"
   ]
  },
  {
   "attachments": {},
   "cell_type": "markdown",
   "id": "1725e6e4",
   "metadata": {},
   "source": [
    "## Encode Corpus\n",
    "encode each array (sentence) into a 384 dimension vector"
   ]
  },
  {
   "cell_type": "code",
   "execution_count": 12,
   "id": "5605b965",
   "metadata": {},
   "outputs": [
    {
     "name": "stdout",
     "output_type": "stream",
     "text": [
      "Length of vector: 768\n",
      "[[ 0.04893158 -0.02619271 -0.00278412 ... -0.04319208  0.07940488\n",
      "  -0.00894494]\n",
      " [ 0.01393695 -0.03502559 -0.04357595 ... -0.02307443  0.02728172\n",
      "  -0.01315697]\n",
      " [ 0.00622562 -0.00944361 -0.02291363 ... -0.01319446  0.06887974\n",
      "   0.0035376 ]\n",
      " ...\n",
      " [ 0.01956195  0.05152552 -0.02227121 ...  0.00139931  0.05719159\n",
      "  -0.01325998]\n",
      " [-0.00859475 -0.02735347  0.00834539 ... -0.04587486  0.00562254\n",
      "   0.03815543]\n",
      " [-0.01250338  0.06143889 -0.0067346  ... -0.00193855 -0.05036447\n",
      "  -0.01904947]]\n"
     ]
    }
   ],
   "source": [
    "corpus_vector = model.encode(docs)\n",
    "print(\"Length of vector:\", len(corpus_vector[0]))\n",
    "\n",
    "print(corpus_vector)"
   ]
  },
  {
   "cell_type": "code",
   "execution_count": 13,
   "id": "c7b990b0",
   "metadata": {},
   "outputs": [
    {
     "data": {
      "text/plain": [
       "(768,)"
      ]
     },
     "execution_count": 13,
     "metadata": {},
     "output_type": "execute_result"
    }
   ],
   "source": [
    "len(corpus_vector)\n",
    "corpus_vector[0].shape"
   ]
  },
  {
   "cell_type": "code",
   "execution_count": 14,
   "id": "22b2b3e0",
   "metadata": {},
   "outputs": [],
   "source": [
    "from pymongo import MongoClient\n",
    "MONGO_CONN = 'mongodb+srv://<username>:<password>@retail-demo.2wqno.mongodb.net/?retryWrites=true&w=majority'\n",
    "client = MongoClient(MONGO_CONN)\n",
    "\n",
    "col = client['sample']['vectest']\n"
   ]
  },
  {
   "cell_type": "code",
   "execution_count": 15,
   "id": "6c99b68a",
   "metadata": {},
   "outputs": [
    {
     "data": {
      "text/plain": [
       "<pymongo.results.InsertManyResult at 0x2a6850250>"
      ]
     },
     "execution_count": 15,
     "metadata": {},
     "output_type": "execute_result"
    }
   ],
   "source": [
    "a = list(map(lambda x:{x[0]:x[1].tolist(), \"doc\":x[2]},zip([\"d\"]*28, corpus_vector, docs)))\n",
    "\n",
    "col.delete_many({})\n",
    "col.insert_many(a)"
   ]
  },
  {
   "attachments": {},
   "cell_type": "markdown",
   "id": "9f932655",
   "metadata": {},
   "source": [
    "## Embed Our Query\n",
    "\n",
    "We then take an english-intuitive question, also send that through the same 384 dimension calculation and then the resulting vector query and corpus query are sent through the `calculate` function, where the most similar strings are calculated. "
   ]
  },
  {
   "cell_type": "code",
   "execution_count": 27,
   "id": "48b7cf26",
   "metadata": {},
   "outputs": [
    {
     "name": "stdout",
     "output_type": "stream",
     "text": [
      "[ 2.59677079e-02  7.72756943e-03 -1.71495732e-02  3.39120068e-02\n",
      "  2.43398529e-02  1.90968369e-03  5.53601533e-02  2.43759509e-02\n",
      " -9.57010873e-03  3.55584994e-02 -1.02552883e-02 -2.38108225e-02\n",
      "  4.03740183e-02 -1.73518267e-02 -1.17360922e-02 -1.22100502e-01\n",
      " -2.15227148e-04 -2.63164807e-02 -1.63931046e-02 -2.06916984e-02\n",
      " -5.42591400e-02 -2.79657934e-02  1.36672251e-03  6.63102465e-03\n",
      " -1.12631684e-02  4.42962125e-02 -2.55481340e-02 -6.01313114e-02\n",
      " -2.94108484e-02  1.46279149e-02  5.05252779e-02 -7.75548890e-02\n",
      "  1.77590293e-03 -8.97731166e-03  1.55914734e-06  1.58840753e-02\n",
      "  1.10980850e-02  6.24909950e-03  4.98716496e-02  7.87470639e-02\n",
      " -3.69348824e-02  9.98970401e-03 -2.91637387e-02  1.72565244e-02\n",
      "  4.45722463e-03 -1.42990546e-02  5.41606322e-02 -4.28984277e-02\n",
      "  9.74101871e-02  5.85654425e-03 -8.44711903e-03 -7.69575462e-02\n",
      " -5.22977374e-02 -2.46982649e-02 -7.07166940e-02  5.20018265e-02\n",
      " -2.29601413e-02 -1.86963938e-02 -6.37296438e-02  1.80762950e-02\n",
      " -2.45842356e-02 -4.45502736e-02  3.26401442e-02 -4.96443361e-03\n",
      " -8.37932527e-02 -1.81182083e-02 -4.76041622e-03  3.24321054e-02\n",
      "  4.63088974e-02 -2.62927683e-03  5.43330722e-02  3.30614261e-02\n",
      "  3.78966965e-02  4.14032862e-02 -1.49379466e-02  5.11121750e-02\n",
      "  1.28053119e-02  2.60960404e-02  1.44424085e-02 -7.55833182e-03\n",
      "  7.20675737e-02  5.56991696e-02 -1.90901533e-02  1.07179792e-03\n",
      " -4.38211933e-02  1.10450439e-01  1.81825552e-02 -3.12243644e-02\n",
      " -1.09313130e-01  1.06446934e-03 -2.44425572e-02 -2.41517462e-02\n",
      " -3.77173722e-03  9.07078013e-02 -4.68572974e-02  8.95776786e-03\n",
      "  5.28208027e-03 -5.59441634e-02  3.85591201e-02  1.28689967e-02\n",
      " -8.65720361e-02 -5.87034645e-03 -8.85880589e-02 -3.46014947e-02\n",
      "  5.67120016e-02  2.36006267e-02  9.43310745e-03  4.60047089e-02\n",
      " -2.32008845e-03 -5.81454560e-02  3.56341787e-02 -2.63814740e-02\n",
      " -1.16441417e-02 -1.63797159e-02 -7.91666098e-03  3.52083705e-02\n",
      " -4.50864211e-02  3.64750475e-02 -1.96421184e-02  1.42694209e-02\n",
      "  6.35808334e-02 -3.90638560e-02 -4.02634311e-03  1.16919773e-02\n",
      " -9.21678357e-03  1.44313015e-02 -9.20977518e-02 -2.22391095e-02\n",
      "  7.57340854e-03  8.24455768e-02  1.11152860e-03 -2.73912176e-02\n",
      "  2.79682260e-02  1.46823348e-02  1.08651007e-02  3.40748788e-03\n",
      "  2.74968706e-02 -2.18514856e-02 -1.73929688e-02  1.43951429e-02\n",
      " -6.21555634e-02 -7.07846554e-03  5.94767667e-02  3.41228619e-02\n",
      " -3.12959850e-02 -3.30612287e-02  2.11623795e-02 -5.49186720e-03\n",
      " -2.33099107e-02 -3.82531658e-02  1.61002390e-02 -5.81116714e-02\n",
      "  1.20395385e-02  5.46627864e-03  5.32906540e-02  2.79059038e-02\n",
      " -1.06124496e-02 -8.95227678e-03  3.59228253e-02  2.27467138e-02\n",
      "  5.80462292e-02  2.44909227e-02  4.99108993e-02 -3.07171270e-02\n",
      "  1.28450058e-02  3.99936512e-02  2.53425329e-03 -3.84445712e-02\n",
      " -1.36620134e-01 -3.78348120e-02  5.75041659e-02 -1.51515305e-02\n",
      "  1.11048529e-02 -6.55156421e-03 -1.14448480e-02  6.11335523e-02\n",
      "  1.31009165e-02 -4.52435203e-02  2.85134315e-02 -2.31788270e-02\n",
      "  1.68449637e-02 -4.07041088e-02 -4.13574139e-03 -9.76003706e-03\n",
      "  3.84784453e-02  6.43174425e-02  5.59000820e-02 -6.90672407e-03\n",
      " -1.92640815e-02 -6.06034137e-03  2.55972538e-02  2.31675021e-02\n",
      " -6.67622983e-02  2.38556284e-02  6.67530373e-02 -8.75667762e-03\n",
      "  3.33775990e-02 -1.55954789e-02  1.52932433e-02  2.33728904e-03\n",
      "  1.50789283e-02  1.05412435e-02  2.72325799e-03 -3.61304469e-02\n",
      " -7.05662463e-03 -3.35258655e-02  4.44080755e-02  3.59802730e-02\n",
      "  6.69468641e-02 -3.23231029e-03  5.46809547e-02  1.61791965e-02\n",
      "  1.60241649e-02  3.06473635e-02 -2.01513735e-03 -2.50082416e-03\n",
      "  1.09437630e-02 -2.59462446e-02  2.50842758e-02  2.65749637e-03\n",
      " -2.71731447e-02 -2.84907583e-05  7.20718279e-02 -8.19680840e-03\n",
      "  3.11042299e-03  7.50191286e-02 -3.42365503e-02  3.62451114e-02\n",
      "  1.00802770e-02 -5.28763123e-02 -3.04139014e-02  3.28514203e-02\n",
      " -1.73748862e-02 -1.02421008e-02  1.51753305e-02 -2.04879567e-02\n",
      "  1.89395417e-02 -2.26835348e-02  1.47472713e-02  4.48842868e-02\n",
      " -1.76096074e-02 -7.73079470e-02 -1.81094389e-02 -1.58599336e-02\n",
      " -1.85341007e-04  5.60201472e-03  4.53823581e-02 -3.21462639e-02\n",
      "  3.79100144e-02 -4.18227864e-03 -3.19314301e-02  3.08687873e-02\n",
      "  1.24090547e-02 -6.76139891e-02 -3.91833037e-02  2.06545070e-02\n",
      " -6.73043653e-02  3.89737845e-03  1.76108126e-02 -1.28104398e-02\n",
      "  6.49794517e-03 -2.83822156e-02 -3.42883542e-02 -6.09474741e-02\n",
      " -2.89320089e-02  1.55042559e-02 -3.77984950e-03 -1.93798803e-02\n",
      " -1.75239332e-02 -9.47102532e-03  1.69485565e-02  9.18266829e-03\n",
      "  5.49135637e-03 -2.15053838e-02  2.55535431e-02  2.60338429e-02\n",
      " -1.13997761e-04  1.59392245e-02 -5.52727515e-03  4.69346065e-03\n",
      " -1.15366187e-02 -2.12691561e-03 -1.88153293e-02 -3.48992483e-03\n",
      "  4.20738868e-02 -3.46435905e-02 -1.08603491e-02 -6.43400401e-02\n",
      " -3.16296779e-02  5.78277803e-04 -2.46108118e-02  4.87081967e-02\n",
      " -2.57772058e-02 -1.12414993e-01 -1.35604907e-02  1.79505767e-03\n",
      " -2.58302819e-02 -2.69630365e-02  6.15000026e-03  6.15690164e-02\n",
      "  2.07253955e-02 -5.09691462e-02  3.84408347e-02  2.32614093e-02\n",
      " -3.54844779e-02  5.20797595e-02  5.02840653e-02 -5.13870046e-02\n",
      " -3.42276250e-03  5.93472272e-02  5.06389327e-02  1.29632372e-02\n",
      "  2.41494495e-02 -5.06042503e-02 -5.94919212e-02  2.03319900e-02\n",
      " -1.70118397e-03  2.10411716e-02 -1.77892335e-02  9.54649076e-02\n",
      " -1.87284313e-02 -1.02545768e-02  2.50568613e-03  2.20591854e-02\n",
      "  4.25945483e-02  3.39065533e-04  5.00846133e-02 -5.45580965e-03\n",
      "  5.74380867e-02  4.49467078e-03  2.82763988e-02 -2.83592436e-02\n",
      " -5.52721880e-02  2.33021900e-02  1.47071648e-02 -5.76105639e-02\n",
      " -4.68091369e-02 -1.12187574e-02 -3.23917605e-02 -3.99162818e-04\n",
      "  1.31773306e-02 -1.00104725e-02  2.44196784e-02  2.68572047e-02\n",
      "  2.17448529e-02  1.04745626e-02  1.54427830e-02 -3.32708135e-02\n",
      " -1.78445391e-02  8.19933563e-02  9.26368590e-03  5.22391051e-02\n",
      " -6.34738244e-03 -1.53522473e-02 -1.59956105e-02  1.53785422e-02\n",
      "  4.66794409e-02  4.12185006e-02 -4.72600311e-02 -1.21849747e-02\n",
      " -3.38598043e-02  8.03082529e-03 -5.07949404e-02  2.56143175e-02\n",
      "  7.64070749e-02  1.67268217e-02 -8.67538061e-03 -3.30029577e-02\n",
      "  1.30261322e-02  2.55153850e-02  8.99792984e-02  1.03117609e-02\n",
      " -2.25983020e-02  2.25202739e-02  1.43824564e-02  1.38266226e-02\n",
      " -2.25351043e-02 -1.43958740e-02 -5.61343506e-02  2.04038825e-02\n",
      "  2.40995567e-02  2.27716994e-02  5.72744198e-02  2.89992569e-03\n",
      " -2.13128794e-02 -3.20681371e-02  2.81774718e-02  4.28433381e-02\n",
      " -3.34119424e-02  2.18898132e-02  6.76951557e-03 -7.45730400e-02\n",
      " -5.55298179e-02  3.92111763e-02 -1.01813702e-02  4.34287172e-03\n",
      "  1.73811689e-02 -1.98493078e-02 -2.57591773e-02 -3.34791653e-02\n",
      " -9.64976661e-03 -5.71303032e-02 -4.10221750e-03  6.85701007e-03\n",
      " -3.56127843e-02  1.99132692e-02 -3.67450938e-02  3.66111845e-02\n",
      "  7.60636386e-03 -1.00835823e-02 -2.69645788e-02  4.57102656e-02\n",
      "  3.16379443e-02 -8.19903892e-03 -3.46327480e-03  5.75332455e-02\n",
      " -4.89693098e-02 -7.99292792e-03 -7.85943046e-02  7.59959891e-02\n",
      "  2.91618034e-02  4.48171869e-02 -4.64216582e-02 -2.08315700e-02\n",
      "  2.78897285e-02 -1.93709768e-02 -1.75812915e-02 -3.23646851e-02\n",
      " -3.14755961e-02  9.87416878e-03 -1.21866707e-02  1.61418170e-02\n",
      " -4.08802927e-03  8.13035388e-03 -6.59055263e-03  6.35162890e-02\n",
      "  1.10127637e-02 -2.77539641e-02  1.91219430e-02 -3.44701558e-02\n",
      "  1.87220350e-02  1.28858881e-02  1.16297575e-02  3.96039709e-02\n",
      " -6.57192692e-02  5.08693792e-02 -1.10284314e-02  4.07638177e-02\n",
      " -4.04204056e-02 -3.21993046e-02  1.20709809e-02 -2.08379403e-02\n",
      " -3.65803503e-02 -1.97221246e-02  5.53084351e-02  2.10767258e-02\n",
      " -3.82532887e-02  9.71224159e-02  1.84379797e-02 -2.98542064e-03\n",
      "  4.34990227e-02  2.60223672e-02 -7.93321282e-02  2.39095447e-04\n",
      "  1.62443463e-02  3.52611579e-02 -1.23036727e-02  1.32513223e-02\n",
      "  2.35893633e-02 -2.36273594e-02 -4.42025848e-02 -1.30564589e-02\n",
      " -2.19623931e-02 -1.85201932e-02  1.02078002e-02  2.00646985e-02\n",
      " -1.54045159e-02 -3.36019248e-02  2.28815922e-03 -5.36911674e-02\n",
      " -5.49865998e-02  5.54107726e-02 -1.62387285e-02  2.76123807e-02\n",
      " -2.21099369e-02 -3.81739587e-02 -2.04372667e-02  6.66047772e-03\n",
      "  1.04721151e-02  1.52998196e-04  2.07994394e-02 -3.24462391e-02\n",
      " -1.98747758e-02  7.66017735e-02  9.67390742e-03  3.49058174e-02\n",
      "  3.63471135e-02 -5.46136610e-02  4.51530963e-02  8.34337026e-02\n",
      " -3.43278721e-02  2.94346940e-02 -1.79173164e-02 -7.57436454e-02\n",
      " -1.46434586e-02  6.54220488e-03  2.68911514e-02  7.04140589e-02\n",
      " -4.87277657e-03  1.38932439e-02 -3.53099182e-02  4.08418626e-02\n",
      "  1.06289126e-02  5.50984144e-02  1.91832474e-03 -1.42189572e-02\n",
      "  2.37474288e-03 -7.61913718e-04 -3.64296064e-02 -5.08648204e-03\n",
      " -1.84349567e-02  4.14818823e-02 -7.65856262e-03  4.33216104e-03\n",
      " -1.65133905e-02  1.36423844e-03 -1.68207032e-03  1.04721244e-02\n",
      "  1.18820164e-04  5.59743904e-02  2.81953868e-02  2.67896503e-02\n",
      " -2.80756806e-03  1.79272648e-02 -1.28300115e-02  5.96010499e-02\n",
      "  8.60592350e-02  6.70871809e-02 -1.69962719e-02 -7.23324567e-02\n",
      "  4.91948100e-04 -1.31103108e-02 -3.31171900e-02 -2.32752319e-02\n",
      " -3.58260348e-02  5.87077141e-02 -1.96262244e-02 -7.44824903e-03\n",
      "  3.03663108e-02  2.95162965e-02  9.36822407e-03 -4.01816377e-03\n",
      " -4.26503867e-02  3.51031311e-02  6.68483004e-02 -5.03935163e-33\n",
      " -4.29628827e-02 -4.03533056e-02  5.51661886e-02 -6.63162172e-02\n",
      " -2.76783705e-02 -3.30181420e-02 -4.31771949e-03 -1.03733577e-02\n",
      " -5.87945208e-02 -5.54461665e-02 -2.81640962e-02 -2.96451971e-02\n",
      " -1.02707883e-02 -9.37674311e-04  3.53437029e-02  2.73831375e-02\n",
      " -3.70224155e-02  8.76314286e-03 -5.27796056e-03  1.30811729e-03\n",
      "  9.14978422e-03 -5.71682490e-02 -1.02858460e-02  9.08787474e-02\n",
      "  1.95304383e-04  4.81519587e-02 -3.46540622e-02  1.89646464e-02\n",
      " -5.18333092e-02  3.08397450e-02  2.31436789e-02  9.38954856e-03\n",
      " -7.28056300e-03 -2.41859332e-02  3.02098622e-03 -1.42868888e-02\n",
      "  8.93085357e-03 -8.93075615e-02 -4.79289889e-02 -4.27412279e-02\n",
      " -9.81451944e-04 -9.88091342e-03  4.35276004e-03  6.01355173e-02\n",
      "  8.74606073e-02 -3.88623327e-02 -3.15349698e-02 -8.11504014e-03\n",
      " -6.05270565e-02  1.56662464e-02 -3.21724191e-02 -2.92547811e-02\n",
      "  9.55528580e-03  2.19543502e-02  2.59447284e-02 -2.22845972e-02\n",
      "  3.26778628e-02 -1.18656997e-02  2.90670972e-02 -2.14512087e-03\n",
      "  7.17436895e-02  9.71908215e-03 -3.93856391e-02  9.81932972e-03\n",
      " -2.86383508e-03 -4.11783010e-02 -1.64876264e-02 -1.20706540e-02\n",
      " -2.53572091e-02 -1.78111100e-03  2.93517020e-02  9.54342913e-03\n",
      " -2.15426236e-02 -1.71987657e-02  1.23111466e-02 -6.24426492e-02\n",
      "  3.69278932e-05  4.12943028e-02 -9.80679039e-03  4.30893190e-02\n",
      " -1.61048323e-02 -2.20816792e-03  7.22339051e-03 -1.74615607e-02\n",
      "  2.39052847e-02 -9.69079975e-03 -4.94554639e-03  4.34389412e-02\n",
      "  6.26267642e-02  2.59256065e-02  6.99826470e-03  3.19731534e-02\n",
      " -7.46819540e-04 -1.53476102e-02  3.58952284e-02  7.47753680e-02\n",
      "  1.96014047e-02  9.63334925e-03 -1.76677257e-02 -2.56773364e-02\n",
      " -1.35737453e-02 -4.29398827e-02 -7.33132437e-02  1.60177462e-02\n",
      " -6.48807287e-02  1.17734045e-04 -4.68564965e-02 -6.70064799e-03\n",
      " -2.45945267e-02 -1.56892929e-02  1.10122105e-02  1.69860106e-02\n",
      "  4.66186833e-03  7.04021472e-03 -3.16196866e-02  2.54347455e-02\n",
      "  1.25640794e-03 -5.57197854e-02  1.53018283e-02 -4.21201363e-02\n",
      " -1.86719093e-02  1.52326282e-02 -3.88245545e-02 -6.66535795e-02\n",
      "  7.82772601e-02  2.28946656e-02  5.55594824e-03  3.79225872e-02\n",
      " -3.68526839e-02 -1.23357102e-02 -1.53218880e-02 -2.40827315e-02\n",
      "  2.25678548e-07  1.70820691e-02 -1.10593960e-02 -2.32816637e-02\n",
      "  2.81644659e-03  3.14478315e-02 -4.29051667e-02 -8.72190204e-03\n",
      " -4.14246209e-02  2.96321269e-02 -1.73913296e-02  3.75567079e-02\n",
      " -1.80523992e-02  1.18191140e-02 -4.65338025e-03 -6.99919984e-02\n",
      "  1.11135989e-02  4.78425500e-04 -1.56463142e-02 -1.41537897e-02\n",
      "  3.48553061e-02  5.83572835e-02  3.30094770e-02  1.80875845e-02\n",
      " -5.22471704e-02  5.99725172e-03  7.86529202e-03  2.31240760e-04\n",
      "  4.65222448e-02  2.26579532e-02  1.65965054e-02  3.79231349e-02\n",
      " -6.28784448e-02  1.98525582e-02 -2.20719981e-03  3.15308049e-02\n",
      "  7.17555871e-04 -1.16795264e-02  1.81385856e-02  2.32510138e-02\n",
      "  6.16882928e-02 -2.03042421e-02 -3.44895571e-03 -4.77337715e-04\n",
      "  2.68555523e-05 -8.14639870e-03 -5.83719164e-02  3.97235155e-02\n",
      "  2.93334271e-03  7.38079334e-03 -2.20424426e-03  2.53817309e-02\n",
      " -2.49448214e-02  3.52945216e-02  2.18730941e-02 -2.66108359e-03\n",
      " -8.07212517e-02  1.53679540e-02  3.69670093e-02 -2.35673357e-02\n",
      " -2.73078959e-02 -1.52585981e-02 -5.07241972e-02 -3.77730578e-02\n",
      "  1.32780507e-01  8.25960189e-03  4.33154963e-03  1.82757480e-03\n",
      "  1.45010521e-34 -3.89953218e-02 -6.39934987e-02 -2.18466204e-02\n",
      "  2.57328097e-02 -1.86322797e-02 -1.93173741e-03 -3.21659818e-02\n",
      "  9.30927414e-03 -6.97923079e-02  6.53422251e-02  1.05925500e-02]\n"
     ]
    }
   ],
   "source": [
    "# Encode our question and documents in 384 dimension\n",
    "\n",
    "# query = \"How many islands are comprised of Japan?\"\n",
    "# query = \"Which constitution model did Japan adopt?\"\n",
    "# query = \"Name the captial of Japan?\"\n",
    "query = \"Japan is divided into how many administrative regions?\"\n",
    "query_vector = model.encode(query)\n",
    "print(query_vector)"
   ]
  },
  {
   "attachments": {},
   "cell_type": "markdown",
   "id": "53414d6e",
   "metadata": {},
   "source": [
    "## Calculate Similarity"
   ]
  },
  {
   "cell_type": "code",
   "execution_count": 28,
   "id": "8a1969cf",
   "metadata": {},
   "outputs": [
    {
     "name": "stdout",
     "output_type": "stream",
     "text": [
      "0.8487468957901001  Japan is divided into 47 administrative prefectures and eight traditional regions\n",
      "0.5770764350891113 Japan is an island country in East Asia\n",
      "0.5675115585327148  Japan is a part of the Ring of Fire, and spans an archipelago of 6852 islands covering 377,975 square kilometers (145,937 sq mi); the five main islands are Hokkaido, Honshu, Shikoku, Kyushu, and Okinawa\n",
      "0.5423482656478882  Japan is the eleventh most populous country in the world, as well as one of the most densely populated and urbanized\n",
      "0.5241142511367798  Under the 1947 constitution, Japan has maintained a unitary parliamentary constitutional monarchy with a bicameral legislature, the National Diet\n",
      "0.5068069696426392  Tokyo is the nation's capital and largest city, followed by Yokohama, Osaka, Nagoya, Sapporo, Fukuoka, Kobe, and Kyoto\n",
      "0.4977687895298004  The Greater Tokyo Area is the most populous metropolitan area in the world, with more than 37\n",
      "0.4504493772983551  Japan is a highly developed country, and a great power in global politics\n",
      "0.44825366139411926  Between the 4th and 9th centuries, the kingdoms of Japan became unified under an emperor and the imperial court based in Heian-kyō\n",
      "0.43879783153533936  Beginning in the 12th century, political power was held by a series of military dictators (shōgun) and feudal lords (daimyō) and enforced by a class of warrior nobility (samurai)\n",
      "0.4067147672176361  It is situated in the northwest Pacific Ocean, and is bordered on the west by the Sea of Japan, while extending from the Sea of Okhotsk in the north toward the East China Sea, Philippine Sea, and Taiwan in the south\n",
      "0.4054909944534302  After a century-long period of civil war, the country was reunified in 1603 under the Tokugawa shogunate, which enacted an isolationist foreign policy\n",
      "0.3990234434604645  The culture of Japan is well known around the world, including its art, cuisine, music, and popular culture, which encompasses prominent comic, animation and video game industries\n",
      "0.38551434874534607  In the Meiji period, the Empire of Japan adopted a Western-modeled constitution and pursued a program of industrialization and modernization\n",
      "0.36347711086273193  Japan has the world's highest life expectancy, though it is experiencing a decline in population\n",
      "0.35932672023773193  About three-fourths of the country's terrain is mountainous, concentrating its population of 125\n",
      "0.35082903504371643  After suffering defeat in the Pacific War and two atomic bombings, Japan surrendered in 1945 and came under a seven-year Allied occupation, during which it adopted a new constitution and began a military alliance with the United States\n",
      "0.3397975265979767  Japan has been inhabited since the Upper Paleolithic period (30,000 BC), though the first written mention of the archipelago appears in a Chinese chronicle (the Book of Han) finished in the 2nd century AD\n",
      "0.33957409858703613  Although Japan has renounced its right to declare war, the country maintains Self-Defense Forces that rank as one of the world's strongest militaries\n",
      "0.3389996886253357  In 1854, a United States fleet forced Japan to open trade to the West, which led to the end of the shogunate and the restoration of imperial power in 1868\n",
      "0.3095131516456604  After World War II, Japan experienced record growth in an economic miracle, becoming the second-largest economy in the world by 1972 but has stagnated since 1995 in what is referred to as the Lost Decades\n",
      "0.28714996576309204  Amidst a rise in militarism and overseas colonization, Japan invaded China in 1937 and entered World War II as an Axis power in 1941\n",
      "0.2783687710762024  It is a member of numerous international organizations, including the United Nations (since 1956), OECD, G20 and Group of Seven\n",
      "0.25389617681503296 5 million on narrow coastal plains\n",
      "0.25094935297966003 4 million residents\n",
      "0.20534206926822662  Its economy is the world's third-largest by nominal GDP and the fourth-largest by PPP\n",
      "0.18402382731437683  A global leader in the automotive, robotics and electronics industries, the country has made significant contributions to science and technology\n",
      "-0.05009174346923828 \n"
     ]
    }
   ],
   "source": [
    "# Calculate cosine similarity between the corpus of vectors and the query vector\n",
    "scores = util.cos_sim(query_vector, corpus_vector)[0].cpu().tolist()\n",
    "\n",
    "# Combine docs & scores\n",
    "doc_score_pairs = list(zip(docs, scores))\n",
    "\n",
    "# Sort by decreasing score\n",
    "doc_score_pairs = sorted(doc_score_pairs, key=lambda x: x[1], reverse=True)\n",
    "\n",
    "# Output passages & scores\n",
    "for doc, score in doc_score_pairs:\n",
    "    print(score, doc)"
   ]
  },
  {
   "cell_type": "code",
   "execution_count": 32,
   "id": "49e8dda0",
   "metadata": {},
   "outputs": [
    {
     "data": {
      "text/plain": [
       "[{'doc': ' Japan is divided into 47 administrative prefectures and eight traditional regions',\n",
       "  'score': 0.9243733882904053},\n",
       " {'doc': 'Japan is an island country in East Asia',\n",
       "  'score': 0.7885381579399109},\n",
       " {'doc': ' Japan is a part of the Ring of Fire, and spans an archipelago of 6852 islands covering 377,975 square kilometers (145,937 sq mi); the five main islands are Hokkaido, Honshu, Shikoku, Kyushu, and Okinawa',\n",
       "  'score': 0.7837554216384888}]"
      ]
     },
     "execution_count": 32,
     "metadata": {},
     "output_type": "execute_result"
    }
   ],
   "source": [
    "pipeline = [{\n",
    "  \"$search\": {\n",
    "    \"index\": \"default\",\n",
    "    \"knnBeta\": {\n",
    "      \"vector\": query_vector.tolist(),\n",
    "      \"path\": \"d\",\n",
    "      # \"filter\":{\n",
    "      #           \"phrase\": {\n",
    "      #             \"path\": \"doc\",\n",
    "      #             \"query\": \"capital\",\n",
    "      #           }\n",
    "      #         },\n",
    "      \"k\": 3\n",
    "    }\n",
    "  }\n",
    "},\n",
    "{\"$project\":{\n",
    "    \"score\":{\n",
    "              '$meta': 'searchScore'\n",
    "            },\n",
    "    \"doc\":1,\n",
    "    \"_id\": 0\n",
    "}}]\n",
    "res = list(col.aggregate(pipeline))\n",
    "res\n",
    "\n",
    "\n"
   ]
  },
  {
   "cell_type": "code",
   "execution_count": null,
   "id": "2d17ae59",
   "metadata": {},
   "outputs": [],
   "source": []
  },
  {
   "cell_type": "code",
   "execution_count": null,
   "id": "dea76f64",
   "metadata": {},
   "outputs": [],
   "source": []
  }
 ],
 "metadata": {
  "kernelspec": {
   "display_name": "Python 3",
   "language": "python",
   "name": "python3"
  },
  "language_info": {
   "codemirror_mode": {
    "name": "ipython",
    "version": 3
   },
   "file_extension": ".py",
   "mimetype": "text/x-python",
   "name": "python",
   "nbconvert_exporter": "python",
   "pygments_lexer": "ipython3",
   "version": "3.9.13"
  }
 },
 "nbformat": 4,
 "nbformat_minor": 5
}
